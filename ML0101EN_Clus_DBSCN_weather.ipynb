{
  "nbformat": 4,
  "nbformat_minor": 0,
  "metadata": {
    "kernelspec": {
      "display_name": "Python 3",
      "language": "python",
      "name": "python3"
    },
    "language_info": {
      "codemirror_mode": {
        "name": "ipython",
        "version": 3
      },
      "file_extension": ".py",
      "mimetype": "text/x-python",
      "name": "python",
      "nbconvert_exporter": "python",
      "pygments_lexer": "ipython3",
      "version": "3.7.6"
    },
    "colab": {
      "name": "ML0101EN-Clus-DBSCN-weather.ipynb",
      "provenance": [],
      "include_colab_link": true
    }
  },
  "cells": [
    {
      "cell_type": "markdown",
      "metadata": {
        "id": "view-in-github",
        "colab_type": "text"
      },
      "source": [
        "<a href=\"https://colab.research.google.com/github/zainraj50/Coursera-Capstone-MachineLearning-Project-1/blob/master/ML0101EN_Clus_DBSCN_weather.ipynb\" target=\"_parent\"><img src=\"https://colab.research.google.com/assets/colab-badge.svg\" alt=\"Open In Colab\"/></a>"
      ]
    },
    {
      "cell_type": "markdown",
      "metadata": {
        "id": "oU8F13yduv7c"
      },
      "source": [
        "<center>\n",
        "    <img src=\"https://s3-api.us-geo.objectstorage.softlayer.net/cf-courses-data/CognitiveClass/Logos/organization_logo/organization_logo.png\" width=\"300\" alt=\"cognitiveclass.ai logo\"  />\n",
        "</center>\n",
        "\n",
        "# Density-Based Clustering\n",
        "\n",
        "Estaimted time needed: **25** minutes\n",
        "\n",
        "## Objectives\n",
        "\n",
        "After completing this lab you will be able to:\n",
        "\n",
        "-   Use DBSCAN to do Density based clustering\n",
        "-   Use Matplotlib to plot clusters\n"
      ]
    },
    {
      "cell_type": "markdown",
      "metadata": {
        "id": "tQRblblJuv7f"
      },
      "source": [
        "Most of the traditional clustering techniques, such as k-means, hierarchical and fuzzy clustering, can be used to group data without supervision. \n",
        "\n",
        "However, when applied to tasks with arbitrary shape clusters, or clusters within cluster, the traditional techniques might be unable to achieve good results. That is, elements in the same cluster might not share enough similarity or the performance may be poor.\n",
        "Additionally, Density-based Clustering locates regions of high density that are separated from one another by regions of low density. Density, in this context, is defined as the number of points within a specified radius.\n",
        "\n",
        "In this section, the main focus will be manipulating the data and properties of DBSCAN and observing the resulting clustering.\n"
      ]
    },
    {
      "cell_type": "markdown",
      "metadata": {
        "id": "AtqR2mKfuv7j"
      },
      "source": [
        "Import the following libraries:\n",
        "\n",
        "<ul>\n",
        "    <li> <b>numpy as np</b> </li>\n",
        "    <li> <b>DBSCAN</b> from <b>sklearn.cluster</b> </li>\n",
        "    <li> <b>make_blobs</b> from <b>sklearn.datasets.samples_generator</b> </li>\n",
        "    <li> <b>StandardScaler</b> from <b>sklearn.preprocessing</b> </li>\n",
        "    <li> <b>matplotlib.pyplot as plt</b> </li>\n",
        "</ul> <br>\n",
        "Remember <b> %matplotlib inline </b> to display plots\n"
      ]
    },
    {
      "cell_type": "code",
      "metadata": {
        "id": "ypP8kei8uv7l",
        "outputId": "bed6def8-489c-4581-8c9b-cadd7cd2358e",
        "colab": {
          "base_uri": "https://localhost:8080/",
          "height": 35
        }
      },
      "source": [
        "# Notice: For visualization of map, you need basemap package.\n",
        "# if you dont have basemap install on your machine, you can use the following line to install it\n",
        "#!conda install -c conda-forge  basemap==1.1.0  matplotlib==2.2.2  -y\n",
        "# Notice: you maight have to refresh your page and re-run the notebook after installation"
      ],
      "execution_count": 17,
      "outputs": [
        {
          "output_type": "stream",
          "text": [
            "/bin/bash: conda: command not found\n"
          ],
          "name": "stdout"
        }
      ]
    },
    {
      "cell_type": "code",
      "metadata": {
        "id": "TvOrOKVOuv75",
        "outputId": "2fa320e2-463d-4cac-ecc0-55a21a6dae73",
        "colab": {
          "base_uri": "https://localhost:8080/",
          "height": 74
        }
      },
      "source": [
        "import numpy as np \n",
        "from sklearn.cluster import DBSCAN \n",
        "from sklearn.datasets.samples_generator import make_blobs \n",
        "from sklearn.preprocessing import StandardScaler \n",
        "import matplotlib.pyplot as plt \n",
        "%matplotlib inline"
      ],
      "execution_count": 2,
      "outputs": [
        {
          "output_type": "stream",
          "text": [
            "/usr/local/lib/python3.6/dist-packages/sklearn/utils/deprecation.py:144: FutureWarning: The sklearn.datasets.samples_generator module is  deprecated in version 0.22 and will be removed in version 0.24. The corresponding classes / functions should instead be imported from sklearn.datasets. Anything that cannot be imported from sklearn.datasets is now part of the private API.\n",
            "  warnings.warn(message, FutureWarning)\n"
          ],
          "name": "stderr"
        }
      ]
    },
    {
      "cell_type": "markdown",
      "metadata": {
        "id": "crUzwi3Juv8D"
      },
      "source": [
        "### Data generation\n",
        "\n",
        "The function below will generate the data points and requires these inputs:\n",
        "\n",
        "<ul>\n",
        "    <li> <b>centroidLocation</b>: Coordinates of the centroids that will generate the random data. </li>\n",
        "    <ul> <li> Example: input: [[4,3], [2,-1], [-1,4]] </li> </ul>\n",
        "    <li> <b>numSamples</b>: The number of data points we want generated, split over the number of centroids (# of centroids defined in centroidLocation) </li>\n",
        "    <ul> <li> Example: 1500 </li> </ul>\n",
        "    <li> <b>clusterDeviation</b>: The standard deviation between the clusters. The larger the number, the further the spacing. </li>\n",
        "    <ul> <li> Example: 0.5 </li> </ul>\n",
        "</ul>\n"
      ]
    },
    {
      "cell_type": "code",
      "metadata": {
        "id": "aaHhzMLauv8G"
      },
      "source": [
        "def createDataPoints(centroidLocation, numSamples, clusterDeviation):\n",
        "    # Create random data and store in feature matrix X and response vector y.\n",
        "    X, y = make_blobs(n_samples=numSamples, centers=centroidLocation, \n",
        "                                cluster_std=clusterDeviation)\n",
        "    \n",
        "    # Standardize features by removing the mean and scaling to unit variance\n",
        "    X = StandardScaler().fit_transform(X)\n",
        "    return X, y"
      ],
      "execution_count": 3,
      "outputs": []
    },
    {
      "cell_type": "markdown",
      "metadata": {
        "id": "HwtbGds6uv8P"
      },
      "source": [
        "Use <b>createDataPoints</b> with the <b>3 inputs</b> and store the output into variables <b>X</b> and <b>y</b>.\n"
      ]
    },
    {
      "cell_type": "code",
      "metadata": {
        "id": "qsAEZEeyuv8R"
      },
      "source": [
        "X, y = createDataPoints([[4,3], [2,-1], [-1,4]] , 1500, 0.5)"
      ],
      "execution_count": 4,
      "outputs": []
    },
    {
      "cell_type": "markdown",
      "metadata": {
        "id": "yHEp5Yl-uv8a"
      },
      "source": [
        "### Modeling\n",
        "\n",
        "DBSCAN stands for Density-Based Spatial Clustering of Applications with Noise. This technique is one of the most common clustering algorithms  which works based on density of object.\n",
        "The whole idea is that if a particular point belongs to a cluster, it should be near to lots of other points in that cluster.\n",
        "\n",
        "It works based on two parameters: Epsilon and Minimum Points  \n",
        "**Epsilon** determine a specified radius that if includes enough number of points within, we call it dense area  \n",
        "**minimumSamples** determine the minimum number of data points we want in a neighborhood to define a cluster.\n"
      ]
    },
    {
      "cell_type": "code",
      "metadata": {
        "id": "Y_tG1uykuv8d",
        "outputId": "2ae33844-9695-4274-849c-81bcb9b283e1",
        "colab": {
          "base_uri": "https://localhost:8080/",
          "height": 35
        }
      },
      "source": [
        "epsilon = 0.3\n",
        "minimumSamples = 7\n",
        "db = DBSCAN(eps=epsilon, min_samples=minimumSamples).fit(X)\n",
        "labels = db.labels_\n",
        "labels"
      ],
      "execution_count": 5,
      "outputs": [
        {
          "output_type": "execute_result",
          "data": {
            "text/plain": [
              "array([0, 0, 0, ..., 0, 1, 1])"
            ]
          },
          "metadata": {
            "tags": []
          },
          "execution_count": 5
        }
      ]
    },
    {
      "cell_type": "markdown",
      "metadata": {
        "id": "ALUtiTOvuv8q"
      },
      "source": [
        "### Distinguish outliers\n",
        "\n",
        "Lets Replace all elements with 'True' in core_samples_mask that are in the cluster, 'False' if the points are outliers.\n"
      ]
    },
    {
      "cell_type": "code",
      "metadata": {
        "id": "az70cJfeuv8r",
        "outputId": "a7589dc9-acdc-427d-9eae-2c7206ba80a6",
        "colab": {
          "base_uri": "https://localhost:8080/",
          "height": 35
        }
      },
      "source": [
        "# Firts, create an array of booleans using the labels from db.\n",
        "core_samples_mask = np.zeros_like(db.labels_, dtype=bool)\n",
        "core_samples_mask[db.core_sample_indices_] = True\n",
        "core_samples_mask"
      ],
      "execution_count": 6,
      "outputs": [
        {
          "output_type": "execute_result",
          "data": {
            "text/plain": [
              "array([ True,  True,  True, ...,  True,  True,  True])"
            ]
          },
          "metadata": {
            "tags": []
          },
          "execution_count": 6
        }
      ]
    },
    {
      "cell_type": "code",
      "metadata": {
        "id": "baEPAuyFuv8y",
        "outputId": "67be5adf-1151-46f3-9081-4c25787f3ee4",
        "colab": {
          "base_uri": "https://localhost:8080/",
          "height": 35
        }
      },
      "source": [
        "# Number of clusters in labels, ignoring noise if present.\n",
        "n_clusters_ = len(set(labels)) - (1 if -1 in labels else 0)\n",
        "n_clusters_"
      ],
      "execution_count": 7,
      "outputs": [
        {
          "output_type": "execute_result",
          "data": {
            "text/plain": [
              "3"
            ]
          },
          "metadata": {
            "tags": []
          },
          "execution_count": 7
        }
      ]
    },
    {
      "cell_type": "code",
      "metadata": {
        "id": "CDqItqFvuv86",
        "outputId": "08628a12-5a0d-4dda-f6cc-9af835d49bb2",
        "colab": {
          "base_uri": "https://localhost:8080/",
          "height": 35
        }
      },
      "source": [
        "# Remove repetition in labels by turning it into a set.\n",
        "unique_labels = set(labels)\n",
        "unique_labels"
      ],
      "execution_count": 8,
      "outputs": [
        {
          "output_type": "execute_result",
          "data": {
            "text/plain": [
              "{0, 1, 2}"
            ]
          },
          "metadata": {
            "tags": []
          },
          "execution_count": 8
        }
      ]
    },
    {
      "cell_type": "markdown",
      "metadata": {
        "id": "xGtg1Ie-uv9B"
      },
      "source": [
        "### Data visualization\n"
      ]
    },
    {
      "cell_type": "code",
      "metadata": {
        "id": "QQX4UYdPuv9C"
      },
      "source": [
        "# Create colors for the clusters.\n",
        "colors = plt.cm.Spectral(np.linspace(0, 1, len(unique_labels)))\n"
      ],
      "execution_count": 9,
      "outputs": []
    },
    {
      "cell_type": "code",
      "metadata": {
        "scrolled": true,
        "id": "S2xEh5Seuv9J",
        "outputId": "c2174745-e75f-483b-8ea8-5d445761e6c5",
        "colab": {
          "base_uri": "https://localhost:8080/",
          "height": 265
        }
      },
      "source": [
        "# Plot the points with colors\n",
        "for k, col in zip(unique_labels, colors):\n",
        "    if k == -1:\n",
        "        # Black used for noise.\n",
        "        col = 'k'\n",
        "\n",
        "    class_member_mask = (labels == k)\n",
        "\n",
        "    # Plot the datapoints that are clustered\n",
        "    xy = X[class_member_mask & core_samples_mask]\n",
        "    plt.scatter(xy[:, 0], xy[:, 1],s=50, c=[col], marker=u'o', alpha=0.5)\n",
        "\n",
        "    # Plot the outliers\n",
        "    xy = X[class_member_mask & ~core_samples_mask]\n",
        "    plt.scatter(xy[:, 0], xy[:, 1],s=50, c=[col], marker=u'o', alpha=0.5)"
      ],
      "execution_count": 10,
      "outputs": [
        {
          "output_type": "display_data",
          "data": {
            "image/png": "[encoded data removed]",
            "text/plain": [
              "<Figure size 432x288 with 1 Axes>"
            ]
          },
          "metadata": {
            "tags": [],
            "needs_background": "light"
          }
        }
      ]
    },
    {
      "cell_type": "markdown",
      "metadata": {
        "id": "Yn7a5452uv9R"
      },
      "source": [
        "## Practice\n",
        "\n",
        "To better underestand differences between partitional and density-based clusteitng, try to cluster the above dataset into 3 clusters using k-Means.  \n",
        "Notice: do not generate data again, use the same dataset as above.\n"
      ]
    },
    {
      "cell_type": "code",
      "metadata": {
        "id": "DTELqf7kuv9R",
        "outputId": "51d8ae8e-8d46-4f7c-e931-1a57144ece97",
        "colab": {
          "base_uri": "https://localhost:8080/",
          "height": 340
        }
      },
      "source": [
        "# write your code here\n",
        "\n",
        "from sklearn.cluster import KMeans \n",
        "k = 3\n",
        "k_means3 = KMeans(init = \"k-means++\", n_clusters = k, n_init = 12)\n",
        "k_means3.fit(X)\n",
        "fig = plt.figure(figsize=(6, 4))\n",
        "ax = fig.add_subplot(1, 1, 1)\n",
        "for k, col in zip(range(k), colors):\n",
        "    my_members = (k_means3.labels_ == k)\n",
        "    plt.scatter(X[my_members, 0], X[my_members, 1],  c=col, marker=u'o', alpha=0.5)\n",
        "plt.show()\n"
      ],
      "execution_count": 11,
      "outputs": [
        {
          "output_type": "stream",
          "text": [
            "*c* argument looks like a single numeric RGB or RGBA sequence, which should be avoided as value-mapping will have precedence in case its length matches with *x* & *y*.  Please use the *color* keyword-argument or provide a 2-D array with a single row if you intend to specify the same RGB or RGBA value for all points.\n",
            "*c* argument looks like a single numeric RGB or RGBA sequence, which should be avoided as value-mapping will have precedence in case its length matches with *x* & *y*.  Please use the *color* keyword-argument or provide a 2-D array with a single row if you intend to specify the same RGB or RGBA value for all points.\n",
            "*c* argument looks like a single numeric RGB or RGBA sequence, which should be avoided as value-mapping will have precedence in case its length matches with *x* & *y*.  Please use the *color* keyword-argument or provide a 2-D array with a single row if you intend to specify the same RGB or RGBA value for all points.\n"
          ],
          "name": "stderr"
        },
        {
          "output_type": "display_data",
          "data": {
            "image/png": "[encoded data removed]",
            "text/plain": [
              "<Figure size 432x288 with 1 Axes>"
            ]
          },
          "metadata": {
            "tags": [],
            "needs_background": "light"
          }
        }
      ]
    },
    {
      "cell_type": "markdown",
      "metadata": {
        "id": "Wr02p-Nxuv9Z"
      },
      "source": [
        "Double-click **here** for the solution.\n",
        "\n",
        "<!-- Your answer is below:\n",
        "\n",
        "\n",
        "from sklearn.cluster import KMeans \n",
        "k = 3\n",
        "k_means3 = KMeans(init = \"k-means++\", n_clusters = k, n_init = 12)\n",
        "k_means3.fit(X)\n",
        "fig = plt.figure(figsize=(6, 4))\n",
        "ax = fig.add_subplot(1, 1, 1)\n",
        "for k, col in zip(range(k), colors):\n",
        "    my_members = (k_means3.labels_ == k)\n",
        "    plt.scatter(X[my_members, 0], X[my_members, 1],  c=col, marker=u'o', alpha=0.5)\n",
        "plt.show()\n",
        "\n",
        "\n",
        "-->\n"
      ]
    },
    {
      "cell_type": "markdown",
      "metadata": {
        "id": "xpRUy-M_uv9b"
      },
      "source": [
        "<h1 align=center> Weather Station Clustering using DBSCAN & scikit-learn </h1>\n",
        "<hr>\n",
        "\n",
        "DBSCAN is specially very good for tasks like class identification on a spatial context. The wonderful attribute of DBSCAN algorithm is that it can find out any arbitrary shape cluster without getting affected by noise. For example, this following example cluster the location of weather stations in Canada.\n",
        "&lt;Click 1>\n",
        "DBSCAN can be used here, for instance, to find the group of stations which show the same weather condition. As you can see, it not only finds different arbitrary shaped clusters, can find the denser part of data-centered samples by ignoring less-dense areas or noises.\n",
        "\n",
        "let's start playing with the data. We will be working according to the following workflow: </font>\n",
        "\n",
        "1.  Loading data\n",
        "\n",
        "-   Overview data\n",
        "-   Data cleaning\n",
        "-   Data selection\n",
        "-   Clusteing\n"
      ]
    },
    {
      "cell_type": "markdown",
      "metadata": {
        "id": "g_r-dj8Huv9c"
      },
      "source": [
        "### About the dataset\n",
        "\n",
        "<h4 align = \"center\">\n",
        "Environment Canada    \n",
        "Monthly Values for July - 2015\t\n",
        "</h4>\n",
        "<html>\n",
        "<head>\n",
        "<style>\n",
        "table {\n",
        "    font-family: arial, sans-serif;\n",
        "    border-collapse: collapse;\n",
        "    width: 100%;\n",
        "}\n",
        "\n",
        "td, th {\n",
        "    border: 1px solid #dddddd;\n",
        "    text-align: left;\n",
        "    padding: 8px;\n",
        "}\n",
        "\n",
        "tr:nth-child(even) {\n",
        "    background-color: #dddddd;\n",
        "}\n",
        "</style>\n",
        "\n",
        "</head>\n",
        "<body>\n",
        "\n",
        "<table>\n",
        "  <tr>\n",
        "    <th>Name in the table</th>\n",
        "    <th>Meaning</th>\n",
        "  </tr>\n",
        "  <tr>\n",
        "    <td><font color = \"green\"><strong>Stn_Name</font></td>\n",
        "    <td><font color = \"green\"><strong>Station Name</font</td>\n",
        "  </tr>\n",
        "  <tr>\n",
        "    <td><font color = \"green\"><strong>Lat</font></td>\n",
        "    <td><font color = \"green\"><strong>Latitude (North+, degrees)</font></td>\n",
        "  </tr>\n",
        "  <tr>\n",
        "    <td><font color = \"green\"><strong>Long</font></td>\n",
        "    <td><font color = \"green\"><strong>Longitude (West - , degrees)</font></td>\n",
        "  </tr>\n",
        "  <tr>\n",
        "    <td>Prov</td>\n",
        "    <td>Province</td>\n",
        "  </tr>\n",
        "  <tr>\n",
        "    <td>Tm</td>\n",
        "    <td>Mean Temperature (°C)</td>\n",
        "  </tr>\n",
        "  <tr>\n",
        "    <td>DwTm</td>\n",
        "    <td>Days without Valid Mean Temperature</td>\n",
        "  </tr>\n",
        "  <tr>\n",
        "    <td>D</td>\n",
        "    <td>Mean Temperature difference from Normal (1981-2010) (°C)</td>\n",
        "  </tr>\n",
        "  <tr>\n",
        "    <td><font color = \"black\">Tx</font></td>\n",
        "    <td><font color = \"black\">Highest Monthly Maximum Temperature (°C)</font></td>\n",
        "  </tr>\n",
        "  <tr>\n",
        "    <td>DwTx</td>\n",
        "    <td>Days without Valid Maximum Temperature</td>\n",
        "  </tr>\n",
        "  <tr>\n",
        "    <td><font color = \"black\">Tn</font></td>\n",
        "    <td><font color = \"black\">Lowest Monthly Minimum Temperature (°C)</font></td>\n",
        "  </tr>\n",
        "  <tr>\n",
        "    <td>DwTn</td>\n",
        "    <td>Days without Valid Minimum Temperature</td>\n",
        "  </tr>\n",
        "  <tr>\n",
        "    <td>S</td>\n",
        "    <td>Snowfall (cm)</td>\n",
        "  </tr>\n",
        "  <tr>\n",
        "    <td>DwS</td>\n",
        "    <td>Days without Valid Snowfall</td>\n",
        "  </tr>\n",
        "  <tr>\n",
        "    <td>S%N</td>\n",
        "    <td>Percent of Normal (1981-2010) Snowfall</td>\n",
        "  </tr>\n",
        "  <tr>\n",
        "    <td><font color = \"green\"><strong>P</font></td>\n",
        "    <td><font color = \"green\"><strong>Total Precipitation (mm)</font></td>\n",
        "  </tr>\n",
        "  <tr>\n",
        "    <td>DwP</td>\n",
        "    <td>Days without Valid Precipitation</td>\n",
        "  </tr>\n",
        "  <tr>\n",
        "    <td>P%N</td>\n",
        "    <td>Percent of Normal (1981-2010) Precipitation</td>\n",
        "  </tr>\n",
        "  <tr>\n",
        "    <td>S_G</td>\n",
        "    <td>Snow on the ground at the end of the month (cm)</td>\n",
        "  </tr>\n",
        "  <tr>\n",
        "    <td>Pd</td>\n",
        "    <td>Number of days with Precipitation 1.0 mm or more</td>\n",
        "  </tr>\n",
        "  <tr>\n",
        "    <td>BS</td>\n",
        "    <td>Bright Sunshine (hours)</td>\n",
        "  </tr>\n",
        "  <tr>\n",
        "    <td>DwBS</td>\n",
        "    <td>Days without Valid Bright Sunshine</td>\n",
        "  </tr>\n",
        "  <tr>\n",
        "    <td>BS%</td>\n",
        "    <td>Percent of Normal (1981-2010) Bright Sunshine</td>\n",
        "  </tr>\n",
        "  <tr>\n",
        "    <td>HDD</td>\n",
        "    <td>Degree Days below 18 °C</td>\n",
        "  </tr>\n",
        "  <tr>\n",
        "    <td>CDD</td>\n",
        "    <td>Degree Days above 18 °C</td>\n",
        "  </tr>\n",
        "  <tr>\n",
        "    <td>Stn_No</td>\n",
        "    <td>Climate station identifier (first 3 digits indicate   drainage basin, last 4 characters are for sorting alphabetically).</td>\n",
        "  </tr>\n",
        "  <tr>\n",
        "    <td>NA</td>\n",
        "    <td>Not Available</td>\n",
        "  </tr>\n",
        "\n",
        "</table>\n",
        "\n",
        "</body>\n",
        "</html>\n"
      ]
    },
    {
      "cell_type": "markdown",
      "metadata": {
        "id": "fM7cmuOyuv9d"
      },
      "source": [
        "### 1-Download data\n",
        "\n",
        "To download the data, we will use **`!wget`**. To download the data, we will use `!wget` to download it from IBM Object Storage.  \n",
        "**Did you know?** When it comes to Machine Learning, you will likely be working with large datasets. As a business, where can you host your data? IBM is offering a unique opportunity for businesses, with 10 Tb of IBM Cloud Object Storage: [Sign up now for free](http://cocl.us/ML0101EN-IBM-Offer-CC)\n"
      ]
    },
    {
      "cell_type": "code",
      "metadata": {
        "id": "1z4UZFwNuv9e",
        "outputId": "b78c2e70-157d-4769-a587-687fa3cc349e",
        "colab": {
          "base_uri": "https://localhost:8080/",
          "height": 239
        }
      },
      "source": [
        "!wget -O weather-stations20140101-20141231.csv https://s3-api.us-geo.objectstorage.softlayer.net/cf-courses-data/CognitiveClass/ML0101ENv3/labs/weather-stations20140101-20141231.csv"
      ],
      "execution_count": 12,
      "outputs": [
        {
          "output_type": "stream",
          "text": [
            "--2020-09-28 17:35:26--  https://s3-api.us-geo.objectstorage.softlayer.net/cf-courses-data/CognitiveClass/ML0101ENv3/labs/weather-stations20140101-20141231.csv\n",
            "Resolving s3-api.us-geo.objectstorage.softlayer.net (s3-api.us-geo.objectstorage.softlayer.net)... 67.228.254.196\n",
            "Connecting to s3-api.us-geo.objectstorage.softlayer.net (s3-api.us-geo.objectstorage.softlayer.net)|67.228.254.196|:443... connected.\n",
            "HTTP request sent, awaiting response... 200 OK\n",
            "Length: 129821 (127K) [text/csv]\n",
            "Saving to: ‘weather-stations20140101-20141231.csv’\n",
            "\n",
            "weather-stations201 100%[===================>] 126.78K   283KB/s    in 0.4s    \n",
            "\n",
            "2020-09-28 17:35:27 (283 KB/s) - ‘weather-stations20140101-20141231.csv’ saved [129821/129821]\n",
            "\n"
          ],
          "name": "stdout"
        }
      ]
    },
    {
      "cell_type": "markdown",
      "metadata": {
        "id": "QSNRh6Zyuv9j"
      },
      "source": [
        "### 2- Load the dataset\n",
        "\n",
        "We will import the .csv then we creates the columns for year, month and day.\n"
      ]
    },
    {
      "cell_type": "code",
      "metadata": {
        "id": "mYJ4SyJwuv9k",
        "outputId": "d9861f2c-1aa2-4843-a65c-81fca6810567",
        "colab": {
          "base_uri": "https://localhost:8080/",
          "height": 293
        }
      },
      "source": [
        "import csv\n",
        "import pandas as pd\n",
        "import numpy as np\n",
        "\n",
        "filename='weather-stations20140101-20141231.csv'\n",
        "\n",
        "#Read csv\n",
        "pdf = pd.read_csv(filename)\n",
        "pdf.head(5)"
      ],
      "execution_count": 13,
      "outputs": [
        {
          "output_type": "execute_result",
          "data": {
            "text/html": [
              "<div>\n",
              "<style scoped>\n",
              "    .dataframe tbody tr th:only-of-type {\n",
              "        vertical-align: middle;\n",
              "    }\n",
              "\n",
              "    .dataframe tbody tr th {\n",
              "        vertical-align: top;\n",
              "    }\n",
              "\n",
              "    .dataframe thead th {\n",
              "        text-align: right;\n",
              "    }\n",
              "</style>\n",
              "<table border=\"1\" class=\"dataframe\">\n",
              "  <thead>\n",
              "    <tr style=\"text-align: right;\">\n",
              "      <th></th>\n",
              "      <th>Stn_Name</th>\n",
              "      <th>Lat</th>\n",
              "      <th>Long</th>\n",
              "      <th>Prov</th>\n",
              "      <th>Tm</th>\n",
              "      <th>DwTm</th>\n",
              "      <th>D</th>\n",
              "      <th>Tx</th>\n",
              "      <th>DwTx</th>\n",
              "      <th>Tn</th>\n",
              "      <th>DwTn</th>\n",
              "      <th>S</th>\n",
              "      <th>DwS</th>\n",
              "      <th>S%N</th>\n",
              "      <th>P</th>\n",
              "      <th>DwP</th>\n",
              "      <th>P%N</th>\n",
              "      <th>S_G</th>\n",
              "      <th>Pd</th>\n",
              "      <th>BS</th>\n",
              "      <th>DwBS</th>\n",
              "      <th>BS%</th>\n",
              "      <th>HDD</th>\n",
              "      <th>CDD</th>\n",
              "      <th>Stn_No</th>\n",
              "    </tr>\n",
              "  </thead>\n",
              "  <tbody>\n",
              "    <tr>\n",
              "      <th>0</th>\n",
              "      <td>CHEMAINUS</td>\n",
              "      <td>48.935</td>\n",
              "      <td>-123.742</td>\n",
              "      <td>BC</td>\n",
              "      <td>8.2</td>\n",
              "      <td>0.0</td>\n",
              "      <td>NaN</td>\n",
              "      <td>13.5</td>\n",
              "      <td>0.0</td>\n",
              "      <td>1.0</td>\n",
              "      <td>0.0</td>\n",
              "      <td>0.0</td>\n",
              "      <td>0.0</td>\n",
              "      <td>NaN</td>\n",
              "      <td>178.8</td>\n",
              "      <td>0.0</td>\n",
              "      <td>NaN</td>\n",
              "      <td>0.0</td>\n",
              "      <td>12.0</td>\n",
              "      <td>NaN</td>\n",
              "      <td>NaN</td>\n",
              "      <td>NaN</td>\n",
              "      <td>273.3</td>\n",
              "      <td>0.0</td>\n",
              "      <td>1011500</td>\n",
              "    </tr>\n",
              "    <tr>\n",
              "      <th>1</th>\n",
              "      <td>COWICHAN LAKE FORESTRY</td>\n",
              "      <td>48.824</td>\n",
              "      <td>-124.133</td>\n",
              "      <td>BC</td>\n",
              "      <td>7.0</td>\n",
              "      <td>0.0</td>\n",
              "      <td>3.0</td>\n",
              "      <td>15.0</td>\n",
              "      <td>0.0</td>\n",
              "      <td>-3.0</td>\n",
              "      <td>0.0</td>\n",
              "      <td>0.0</td>\n",
              "      <td>0.0</td>\n",
              "      <td>0.0</td>\n",
              "      <td>258.6</td>\n",
              "      <td>0.0</td>\n",
              "      <td>104.0</td>\n",
              "      <td>0.0</td>\n",
              "      <td>12.0</td>\n",
              "      <td>NaN</td>\n",
              "      <td>NaN</td>\n",
              "      <td>NaN</td>\n",
              "      <td>307.0</td>\n",
              "      <td>0.0</td>\n",
              "      <td>1012040</td>\n",
              "    </tr>\n",
              "    <tr>\n",
              "      <th>2</th>\n",
              "      <td>LAKE COWICHAN</td>\n",
              "      <td>48.829</td>\n",
              "      <td>-124.052</td>\n",
              "      <td>BC</td>\n",
              "      <td>6.8</td>\n",
              "      <td>13.0</td>\n",
              "      <td>2.8</td>\n",
              "      <td>16.0</td>\n",
              "      <td>9.0</td>\n",
              "      <td>-2.5</td>\n",
              "      <td>9.0</td>\n",
              "      <td>0.0</td>\n",
              "      <td>9.0</td>\n",
              "      <td>NaN</td>\n",
              "      <td>264.6</td>\n",
              "      <td>9.0</td>\n",
              "      <td>NaN</td>\n",
              "      <td>NaN</td>\n",
              "      <td>11.0</td>\n",
              "      <td>NaN</td>\n",
              "      <td>NaN</td>\n",
              "      <td>NaN</td>\n",
              "      <td>168.1</td>\n",
              "      <td>0.0</td>\n",
              "      <td>1012055</td>\n",
              "    </tr>\n",
              "    <tr>\n",
              "      <th>3</th>\n",
              "      <td>DISCOVERY ISLAND</td>\n",
              "      <td>48.425</td>\n",
              "      <td>-123.226</td>\n",
              "      <td>BC</td>\n",
              "      <td>NaN</td>\n",
              "      <td>NaN</td>\n",
              "      <td>NaN</td>\n",
              "      <td>12.5</td>\n",
              "      <td>0.0</td>\n",
              "      <td>NaN</td>\n",
              "      <td>NaN</td>\n",
              "      <td>NaN</td>\n",
              "      <td>NaN</td>\n",
              "      <td>NaN</td>\n",
              "      <td>NaN</td>\n",
              "      <td>NaN</td>\n",
              "      <td>NaN</td>\n",
              "      <td>NaN</td>\n",
              "      <td>NaN</td>\n",
              "      <td>NaN</td>\n",
              "      <td>NaN</td>\n",
              "      <td>NaN</td>\n",
              "      <td>NaN</td>\n",
              "      <td>NaN</td>\n",
              "      <td>1012475</td>\n",
              "    </tr>\n",
              "    <tr>\n",
              "      <th>4</th>\n",
              "      <td>DUNCAN KELVIN CREEK</td>\n",
              "      <td>48.735</td>\n",
              "      <td>-123.728</td>\n",
              "      <td>BC</td>\n",
              "      <td>7.7</td>\n",
              "      <td>2.0</td>\n",
              "      <td>3.4</td>\n",
              "      <td>14.5</td>\n",
              "      <td>2.0</td>\n",
              "      <td>-1.0</td>\n",
              "      <td>2.0</td>\n",
              "      <td>0.0</td>\n",
              "      <td>2.0</td>\n",
              "      <td>NaN</td>\n",
              "      <td>168.4</td>\n",
              "      <td>2.0</td>\n",
              "      <td>NaN</td>\n",
              "      <td>NaN</td>\n",
              "      <td>11.0</td>\n",
              "      <td>NaN</td>\n",
              "      <td>NaN</td>\n",
              "      <td>NaN</td>\n",
              "      <td>267.7</td>\n",
              "      <td>0.0</td>\n",
              "      <td>1012573</td>\n",
              "    </tr>\n",
              "  </tbody>\n",
              "</table>\n",
              "</div>"
            ],
            "text/plain": [
              "                 Stn_Name     Lat     Long Prov  ...  BS%    HDD  CDD   Stn_No\n",
              "0               CHEMAINUS  48.935 -123.742   BC  ...  NaN  273.3  0.0  1011500\n",
              "1  COWICHAN LAKE FORESTRY  48.824 -124.133   BC  ...  NaN  307.0  0.0  1012040\n",
              "2           LAKE COWICHAN  48.829 -124.052   BC  ...  NaN  168.1  0.0  1012055\n",
              "3        DISCOVERY ISLAND  48.425 -123.226   BC  ...  NaN    NaN  NaN  1012475\n",
              "4     DUNCAN KELVIN CREEK  48.735 -123.728   BC  ...  NaN  267.7  0.0  1012573\n",
              "\n",
              "[5 rows x 25 columns]"
            ]
          },
          "metadata": {
            "tags": []
          },
          "execution_count": 13
        }
      ]
    },
    {
      "cell_type": "markdown",
      "metadata": {
        "id": "1OLAd7BGuv9t"
      },
      "source": [
        "### 3-Cleaning\n",
        "\n",
        "Lets remove rows that dont have any value in the **Tm** field.\n"
      ]
    },
    {
      "cell_type": "code",
      "metadata": {
        "id": "YtzPgfiruv9v",
        "outputId": "da384af5-3a15-48d4-a4db-c609fef90cbd",
        "colab": {
          "base_uri": "https://localhost:8080/",
          "height": 293
        }
      },
      "source": [
        "pdf = pdf[pd.notnull(pdf[\"Tm\"])]\n",
        "pdf = pdf.reset_index(drop=True)\n",
        "pdf.head(5)"
      ],
      "execution_count": 14,
      "outputs": [
        {
          "output_type": "execute_result",
          "data": {
            "text/html": [
              "<div>\n",
              "<style scoped>\n",
              "    .dataframe tbody tr th:only-of-type {\n",
              "        vertical-align: middle;\n",
              "    }\n",
              "\n",
              "    .dataframe tbody tr th {\n",
              "        vertical-align: top;\n",
              "    }\n",
              "\n",
              "    .dataframe thead th {\n",
              "        text-align: right;\n",
              "    }\n",
              "</style>\n",
              "<table border=\"1\" class=\"dataframe\">\n",
              "  <thead>\n",
              "    <tr style=\"text-align: right;\">\n",
              "      <th></th>\n",
              "      <th>Stn_Name</th>\n",
              "      <th>Lat</th>\n",
              "      <th>Long</th>\n",
              "      <th>Prov</th>\n",
              "      <th>Tm</th>\n",
              "      <th>DwTm</th>\n",
              "      <th>D</th>\n",
              "      <th>Tx</th>\n",
              "      <th>DwTx</th>\n",
              "      <th>Tn</th>\n",
              "      <th>DwTn</th>\n",
              "      <th>S</th>\n",
              "      <th>DwS</th>\n",
              "      <th>S%N</th>\n",
              "      <th>P</th>\n",
              "      <th>DwP</th>\n",
              "      <th>P%N</th>\n",
              "      <th>S_G</th>\n",
              "      <th>Pd</th>\n",
              "      <th>BS</th>\n",
              "      <th>DwBS</th>\n",
              "      <th>BS%</th>\n",
              "      <th>HDD</th>\n",
              "      <th>CDD</th>\n",
              "      <th>Stn_No</th>\n",
              "    </tr>\n",
              "  </thead>\n",
              "  <tbody>\n",
              "    <tr>\n",
              "      <th>0</th>\n",
              "      <td>CHEMAINUS</td>\n",
              "      <td>48.935</td>\n",
              "      <td>-123.742</td>\n",
              "      <td>BC</td>\n",
              "      <td>8.2</td>\n",
              "      <td>0.0</td>\n",
              "      <td>NaN</td>\n",
              "      <td>13.5</td>\n",
              "      <td>0.0</td>\n",
              "      <td>1.0</td>\n",
              "      <td>0.0</td>\n",
              "      <td>0.0</td>\n",
              "      <td>0.0</td>\n",
              "      <td>NaN</td>\n",
              "      <td>178.8</td>\n",
              "      <td>0.0</td>\n",
              "      <td>NaN</td>\n",
              "      <td>0.0</td>\n",
              "      <td>12.0</td>\n",
              "      <td>NaN</td>\n",
              "      <td>NaN</td>\n",
              "      <td>NaN</td>\n",
              "      <td>273.3</td>\n",
              "      <td>0.0</td>\n",
              "      <td>1011500</td>\n",
              "    </tr>\n",
              "    <tr>\n",
              "      <th>1</th>\n",
              "      <td>COWICHAN LAKE FORESTRY</td>\n",
              "      <td>48.824</td>\n",
              "      <td>-124.133</td>\n",
              "      <td>BC</td>\n",
              "      <td>7.0</td>\n",
              "      <td>0.0</td>\n",
              "      <td>3.0</td>\n",
              "      <td>15.0</td>\n",
              "      <td>0.0</td>\n",
              "      <td>-3.0</td>\n",
              "      <td>0.0</td>\n",
              "      <td>0.0</td>\n",
              "      <td>0.0</td>\n",
              "      <td>0.0</td>\n",
              "      <td>258.6</td>\n",
              "      <td>0.0</td>\n",
              "      <td>104.0</td>\n",
              "      <td>0.0</td>\n",
              "      <td>12.0</td>\n",
              "      <td>NaN</td>\n",
              "      <td>NaN</td>\n",
              "      <td>NaN</td>\n",
              "      <td>307.0</td>\n",
              "      <td>0.0</td>\n",
              "      <td>1012040</td>\n",
              "    </tr>\n",
              "    <tr>\n",
              "      <th>2</th>\n",
              "      <td>LAKE COWICHAN</td>\n",
              "      <td>48.829</td>\n",
              "      <td>-124.052</td>\n",
              "      <td>BC</td>\n",
              "      <td>6.8</td>\n",
              "      <td>13.0</td>\n",
              "      <td>2.8</td>\n",
              "      <td>16.0</td>\n",
              "      <td>9.0</td>\n",
              "      <td>-2.5</td>\n",
              "      <td>9.0</td>\n",
              "      <td>0.0</td>\n",
              "      <td>9.0</td>\n",
              "      <td>NaN</td>\n",
              "      <td>264.6</td>\n",
              "      <td>9.0</td>\n",
              "      <td>NaN</td>\n",
              "      <td>NaN</td>\n",
              "      <td>11.0</td>\n",
              "      <td>NaN</td>\n",
              "      <td>NaN</td>\n",
              "      <td>NaN</td>\n",
              "      <td>168.1</td>\n",
              "      <td>0.0</td>\n",
              "      <td>1012055</td>\n",
              "    </tr>\n",
              "    <tr>\n",
              "      <th>3</th>\n",
              "      <td>DUNCAN KELVIN CREEK</td>\n",
              "      <td>48.735</td>\n",
              "      <td>-123.728</td>\n",
              "      <td>BC</td>\n",
              "      <td>7.7</td>\n",
              "      <td>2.0</td>\n",
              "      <td>3.4</td>\n",
              "      <td>14.5</td>\n",
              "      <td>2.0</td>\n",
              "      <td>-1.0</td>\n",
              "      <td>2.0</td>\n",
              "      <td>0.0</td>\n",
              "      <td>2.0</td>\n",
              "      <td>NaN</td>\n",
              "      <td>168.4</td>\n",
              "      <td>2.0</td>\n",
              "      <td>NaN</td>\n",
              "      <td>NaN</td>\n",
              "      <td>11.0</td>\n",
              "      <td>NaN</td>\n",
              "      <td>NaN</td>\n",
              "      <td>NaN</td>\n",
              "      <td>267.7</td>\n",
              "      <td>0.0</td>\n",
              "      <td>1012573</td>\n",
              "    </tr>\n",
              "    <tr>\n",
              "      <th>4</th>\n",
              "      <td>ESQUIMALT HARBOUR</td>\n",
              "      <td>48.432</td>\n",
              "      <td>-123.439</td>\n",
              "      <td>BC</td>\n",
              "      <td>8.8</td>\n",
              "      <td>0.0</td>\n",
              "      <td>NaN</td>\n",
              "      <td>13.1</td>\n",
              "      <td>0.0</td>\n",
              "      <td>1.9</td>\n",
              "      <td>0.0</td>\n",
              "      <td>NaN</td>\n",
              "      <td>NaN</td>\n",
              "      <td>NaN</td>\n",
              "      <td>81.0</td>\n",
              "      <td>8.0</td>\n",
              "      <td>NaN</td>\n",
              "      <td>NaN</td>\n",
              "      <td>12.0</td>\n",
              "      <td>NaN</td>\n",
              "      <td>NaN</td>\n",
              "      <td>NaN</td>\n",
              "      <td>258.6</td>\n",
              "      <td>0.0</td>\n",
              "      <td>1012710</td>\n",
              "    </tr>\n",
              "  </tbody>\n",
              "</table>\n",
              "</div>"
            ],
            "text/plain": [
              "                 Stn_Name     Lat     Long Prov  ...  BS%    HDD  CDD   Stn_No\n",
              "0               CHEMAINUS  48.935 -123.742   BC  ...  NaN  273.3  0.0  1011500\n",
              "1  COWICHAN LAKE FORESTRY  48.824 -124.133   BC  ...  NaN  307.0  0.0  1012040\n",
              "2           LAKE COWICHAN  48.829 -124.052   BC  ...  NaN  168.1  0.0  1012055\n",
              "3     DUNCAN KELVIN CREEK  48.735 -123.728   BC  ...  NaN  267.7  0.0  1012573\n",
              "4       ESQUIMALT HARBOUR  48.432 -123.439   BC  ...  NaN  258.6  0.0  1012710\n",
              "\n",
              "[5 rows x 25 columns]"
            ]
          },
          "metadata": {
            "tags": []
          },
          "execution_count": 14
        }
      ]
    },
    {
      "cell_type": "markdown",
      "metadata": {
        "id": "7zFi2KQuuv90"
      },
      "source": [
        "### 4-Visualization\n",
        "\n",
        "Visualization of stations on map using basemap package. The matplotlib basemap toolkit is a library for plotting 2D data on maps in Python. Basemap does not do any plotting on it’s own, but provides the facilities to transform coordinates to a map projections. \n",
        "\n",
        "Please notice that the size of each data points represents the average of maximum temperature for each station in a year. \n"
      ]
    },
    {
      "cell_type": "code",
      "metadata": {
        "id": "mrj-Lv7OxYYG"
      },
      "source": [
        "#!apt install proj-bin libproj-dev libgeos-dev"
      ],
      "execution_count": 15,
      "outputs": []
    },
    {
      "cell_type": "code",
      "metadata": {
        "id": "RiLVvYQ8xe9W"
      },
      "source": [
        "#!pip install https://github.com/matplotlib/basemap/archive/v1.1.0.tar.gz"
      ],
      "execution_count": 16,
      "outputs": []
    },
    {
      "cell_type": "code",
      "metadata": {
        "id": "gPT6PYo4uv91",
        "outputId": "e6a8705e-f105-4cb8-fb71-11250604ab52",
        "colab": {
          "base_uri": "https://localhost:8080/",
          "height": 521
        }
      },
      "source": [
        "from mpl_toolkits.basemap import Basemap\n",
        "import matplotlib.pyplot as plt\n",
        "from pylab import rcParams\n",
        "%matplotlib inline\n",
        "rcParams['figure.figsize'] = (14,10)\n",
        "\n",
        "llon=-140\n",
        "ulon=-50\n",
        "llat=40\n",
        "ulat=65\n",
        "\n",
        "pdf = pdf[(pdf['Long'] > llon) & (pdf['Long'] < ulon) & (pdf['Lat'] > llat) &(pdf['Lat'] < ulat)]\n",
        "\n",
        "my_map = Basemap(projection='merc',\n",
        "            resolution = 'l', area_thresh = 1000.0,\n",
        "            llcrnrlon=llon, llcrnrlat=llat, #min longitude (llcrnrlon) and latitude (llcrnrlat)\n",
        "            urcrnrlon=ulon, urcrnrlat=ulat) #max longitude (urcrnrlon) and latitude (urcrnrlat)\n",
        "\n",
        "my_map.drawcoastlines()\n",
        "my_map.drawcountries()\n",
        "# my_map.drawmapboundary()\n",
        "my_map.fillcontinents(color = 'white', alpha = 0.3)\n",
        "my_map.shadedrelief()\n",
        "\n",
        "# To collect data based on stations        \n",
        "\n",
        "xs,ys = my_map(np.asarray(pdf.Long), np.asarray(pdf.Lat))\n",
        "pdf['xm']= xs.tolist()\n",
        "pdf['ym'] =ys.tolist()\n",
        "\n",
        "#Visualization1\n",
        "for index,row in pdf.iterrows():\n",
        "#   x,y = my_map(row.Long, row.Lat)\n",
        "   my_map.plot(row.xm, row.ym,markerfacecolor =([1,0,0]),  marker='o', markersize= 5, alpha = 0.75)\n",
        "#plt.text(x,y,stn)\n",
        "plt.show()\n",
        "\n"
      ],
      "execution_count": 17,
      "outputs": [
        {
          "output_type": "error",
          "ename": "ImportError",
          "evalue": "ignored",
          "traceback": [
            "\u001b[0;31m---------------------------------------------------------------------------\u001b[0m",
            "\u001b[0;31mImportError\u001b[0m                               Traceback (most recent call last)",
            "\u001b[0;32m<ipython-input-17-9a0818377016>\u001b[0m in \u001b[0;36m<module>\u001b[0;34m()\u001b[0m\n\u001b[0;32m----> 1\u001b[0;31m \u001b[0;32mfrom\u001b[0m \u001b[0mmpl_toolkits\u001b[0m\u001b[0;34m.\u001b[0m\u001b[0mbasemap\u001b[0m \u001b[0;32mimport\u001b[0m \u001b[0mBasemap\u001b[0m\u001b[0;34m\u001b[0m\u001b[0;34m\u001b[0m\u001b[0m\n\u001b[0m\u001b[1;32m      2\u001b[0m \u001b[0;32mimport\u001b[0m \u001b[0mmatplotlib\u001b[0m\u001b[0;34m.\u001b[0m\u001b[0mpyplot\u001b[0m \u001b[0;32mas\u001b[0m \u001b[0mplt\u001b[0m\u001b[0;34m\u001b[0m\u001b[0;34m\u001b[0m\u001b[0m\n\u001b[1;32m      3\u001b[0m \u001b[0;32mfrom\u001b[0m \u001b[0mpylab\u001b[0m \u001b[0;32mimport\u001b[0m \u001b[0mrcParams\u001b[0m\u001b[0;34m\u001b[0m\u001b[0;34m\u001b[0m\u001b[0m\n\u001b[1;32m      4\u001b[0m \u001b[0mget_ipython\u001b[0m\u001b[0;34m(\u001b[0m\u001b[0;34m)\u001b[0m\u001b[0;34m.\u001b[0m\u001b[0mmagic\u001b[0m\u001b[0;34m(\u001b[0m\u001b[0;34m'matplotlib inline'\u001b[0m\u001b[0;34m)\u001b[0m\u001b[0;34m\u001b[0m\u001b[0;34m\u001b[0m\u001b[0m\n\u001b[1;32m      5\u001b[0m \u001b[0mrcParams\u001b[0m\u001b[0;34m[\u001b[0m\u001b[0;34m'figure.figsize'\u001b[0m\u001b[0;34m]\u001b[0m \u001b[0;34m=\u001b[0m \u001b[0;34m(\u001b[0m\u001b[0;36m14\u001b[0m\u001b[0;34m,\u001b[0m\u001b[0;36m10\u001b[0m\u001b[0;34m)\u001b[0m\u001b[0;34m\u001b[0m\u001b[0;34m\u001b[0m\u001b[0m\n",
            "\u001b[0;32m/usr/local/lib/python3.6/dist-packages/mpl_toolkits/basemap/__init__.py\u001b[0m in \u001b[0;36m<module>\u001b[0;34m()\u001b[0m\n\u001b[1;32m     15\u001b[0m \u001b[0;32mfrom\u001b[0m \u001b[0mdistutils\u001b[0m\u001b[0;34m.\u001b[0m\u001b[0mversion\u001b[0m \u001b[0;32mimport\u001b[0m \u001b[0mLooseVersion\u001b[0m\u001b[0;34m\u001b[0m\u001b[0;34m\u001b[0m\u001b[0m\n\u001b[1;32m     16\u001b[0m \u001b[0;32mfrom\u001b[0m \u001b[0mmatplotlib\u001b[0m \u001b[0;32mimport\u001b[0m \u001b[0m__version__\u001b[0m \u001b[0;32mas\u001b[0m \u001b[0m_matplotlib_version\u001b[0m\u001b[0;34m\u001b[0m\u001b[0;34m\u001b[0m\u001b[0m\n\u001b[0;32m---> 17\u001b[0;31m \u001b[0;32mfrom\u001b[0m \u001b[0mmatplotlib\u001b[0m\u001b[0;34m.\u001b[0m\u001b[0mcbook\u001b[0m \u001b[0;32mimport\u001b[0m \u001b[0mis_scalar\u001b[0m\u001b[0;34m,\u001b[0m \u001b[0mdedent\u001b[0m\u001b[0;34m\u001b[0m\u001b[0;34m\u001b[0m\u001b[0m\n\u001b[0m\u001b[1;32m     18\u001b[0m \u001b[0;31m# check to make sure matplotlib is not too old.\u001b[0m\u001b[0;34m\u001b[0m\u001b[0;34m\u001b[0m\u001b[0;34m\u001b[0m\u001b[0m\n\u001b[1;32m     19\u001b[0m \u001b[0m_matplotlib_version\u001b[0m \u001b[0;34m=\u001b[0m \u001b[0mLooseVersion\u001b[0m\u001b[0;34m(\u001b[0m\u001b[0m_matplotlib_version\u001b[0m\u001b[0;34m)\u001b[0m\u001b[0;34m\u001b[0m\u001b[0;34m\u001b[0m\u001b[0m\n",
            "\u001b[0;31mImportError\u001b[0m: cannot import name 'is_scalar'",
            "",
            "\u001b[0;31m---------------------------------------------------------------------------\u001b[0;32m\nNOTE: If your import is failing due to a missing package, you can\nmanually install dependencies using either !pip or !apt.\n\nTo view examples of installing some common dependencies, click the\n\"Open Examples\" button below.\n\u001b[0;31m---------------------------------------------------------------------------\u001b[0m\n"
          ]
        }
      ]
    },
    {
      "cell_type": "markdown",
      "metadata": {
        "id": "TmBOBXCsuv98"
      },
      "source": [
        "### 5- Clustering of stations based on their location i.e. Lat & Lon\n",
        "\n",
        "**DBSCAN** form sklearn library can runs DBSCAN clustering from vector array or distance matrix. In our case, we pass it the Numpy array Clus_dataSet to find core samples of high density and expands clusters from them. \n"
      ]
    },
    {
      "cell_type": "code",
      "metadata": {
        "id": "TYVdvdC7uv99"
      },
      "source": [
        "from sklearn.cluster import DBSCAN\n",
        "import sklearn.utils\n",
        "from sklearn.preprocessing import StandardScaler\n",
        "sklearn.utils.check_random_state(1000)\n",
        "Clus_dataSet = pdf[['xm','ym']]\n",
        "Clus_dataSet = np.nan_to_num(Clus_dataSet)\n",
        "Clus_dataSet = StandardScaler().fit_transform(Clus_dataSet)\n",
        "\n",
        "# Compute DBSCAN\n",
        "db = DBSCAN(eps=0.15, min_samples=10).fit(Clus_dataSet)\n",
        "core_samples_mask = np.zeros_like(db.labels_, dtype=bool)\n",
        "core_samples_mask[db.core_sample_indices_] = True\n",
        "labels = db.labels_\n",
        "pdf[\"Clus_Db\"]=labels\n",
        "\n",
        "realClusterNum=len(set(labels)) - (1 if -1 in labels else 0)\n",
        "clusterNum = len(set(labels)) \n",
        "\n",
        "\n",
        "# A sample of clusters\n",
        "pdf[[\"Stn_Name\",\"Tx\",\"Tm\",\"Clus_Db\"]].head(5)"
      ],
      "execution_count": null,
      "outputs": []
    },
    {
      "cell_type": "markdown",
      "metadata": {
        "id": "n7r2WBHFuv-B"
      },
      "source": [
        "As you can see for outliers, the cluster label is -1\n"
      ]
    },
    {
      "cell_type": "code",
      "metadata": {
        "id": "0rb3lK9Muv-C"
      },
      "source": [
        "set(labels)"
      ],
      "execution_count": null,
      "outputs": []
    },
    {
      "cell_type": "markdown",
      "metadata": {
        "id": "JGpphEEhuv-K"
      },
      "source": [
        "### 6- Visualization of clusters based on location\n",
        "\n",
        "Now, we can visualize the clusters using basemap:\n"
      ]
    },
    {
      "cell_type": "code",
      "metadata": {
        "id": "lD5G9qeEuv-L"
      },
      "source": [
        "from mpl_toolkits.basemap import Basemap\n",
        "import matplotlib.pyplot as plt\n",
        "from pylab import rcParams\n",
        "%matplotlib inline\n",
        "rcParams['figure.figsize'] = (14,10)\n",
        "\n",
        "my_map = Basemap(projection='merc',\n",
        "            resolution = 'l', area_thresh = 1000.0,\n",
        "            llcrnrlon=llon, llcrnrlat=llat, #min longitude (llcrnrlon) and latitude (llcrnrlat)\n",
        "            urcrnrlon=ulon, urcrnrlat=ulat) #max longitude (urcrnrlon) and latitude (urcrnrlat)\n",
        "\n",
        "my_map.drawcoastlines()\n",
        "my_map.drawcountries()\n",
        "#my_map.drawmapboundary()\n",
        "my_map.fillcontinents(color = 'white', alpha = 0.3)\n",
        "my_map.shadedrelief()\n",
        "\n",
        "# To create a color map\n",
        "colors = plt.get_cmap('jet')(np.linspace(0.0, 1.0, clusterNum))\n",
        "\n",
        "\n",
        "\n",
        "#Visualization1\n",
        "for clust_number in set(labels):\n",
        "    c=(([0.4,0.4,0.4]) if clust_number == -1 else colors[np.int(clust_number)])\n",
        "    clust_set = pdf[pdf.Clus_Db == clust_number]                    \n",
        "    my_map.scatter(clust_set.xm, clust_set.ym, color =c,  marker='o', s= 20, alpha = 0.85)\n",
        "    if clust_number != -1:\n",
        "        cenx=np.mean(clust_set.xm) \n",
        "        ceny=np.mean(clust_set.ym) \n",
        "        plt.text(cenx,ceny,str(clust_number), fontsize=25, color='red',)\n",
        "        print (\"Cluster \"+str(clust_number)+', Avg Temp: '+ str(np.mean(clust_set.Tm)))"
      ],
      "execution_count": null,
      "outputs": []
    },
    {
      "cell_type": "markdown",
      "metadata": {
        "id": "nor2gJj1uv-R"
      },
      "source": [
        "### 7- Clustering of stations based on their location, mean, max, and min Temperature\n",
        "\n",
        "In this section we re-run DBSCAN, but this time on a 5-dimensional dataset:\n"
      ]
    },
    {
      "cell_type": "code",
      "metadata": {
        "scrolled": true,
        "id": "k4FveYh3uv-S"
      },
      "source": [
        "from sklearn.cluster import DBSCAN\n",
        "import sklearn.utils\n",
        "from sklearn.preprocessing import StandardScaler\n",
        "sklearn.utils.check_random_state(1000)\n",
        "Clus_dataSet = pdf[['xm','ym','Tx','Tm','Tn']]\n",
        "Clus_dataSet = np.nan_to_num(Clus_dataSet)\n",
        "Clus_dataSet = StandardScaler().fit_transform(Clus_dataSet)\n",
        "\n",
        "# Compute DBSCAN\n",
        "db = DBSCAN(eps=0.3, min_samples=10).fit(Clus_dataSet)\n",
        "core_samples_mask = np.zeros_like(db.labels_, dtype=bool)\n",
        "core_samples_mask[db.core_sample_indices_] = True\n",
        "labels = db.labels_\n",
        "pdf[\"Clus_Db\"]=labels\n",
        "\n",
        "realClusterNum=len(set(labels)) - (1 if -1 in labels else 0)\n",
        "clusterNum = len(set(labels)) \n",
        "\n",
        "\n",
        "# A sample of clusters\n",
        "pdf[[\"Stn_Name\",\"Tx\",\"Tm\",\"Clus_Db\"]].head(5)"
      ],
      "execution_count": null,
      "outputs": []
    },
    {
      "cell_type": "markdown",
      "metadata": {
        "id": "ACQNT00zuv-b"
      },
      "source": [
        "### 8- Visualization of clusters based on location and Temperture\n"
      ]
    },
    {
      "cell_type": "code",
      "metadata": {
        "id": "yQdViJ3Cuv-g"
      },
      "source": [
        "from mpl_toolkits.basemap import Basemap\n",
        "import matplotlib.pyplot as plt\n",
        "from pylab import rcParams\n",
        "%matplotlib inline\n",
        "rcParams['figure.figsize'] = (14,10)\n",
        "\n",
        "my_map = Basemap(projection='merc',\n",
        "            resolution = 'l', area_thresh = 1000.0,\n",
        "            llcrnrlon=llon, llcrnrlat=llat, #min longitude (llcrnrlon) and latitude (llcrnrlat)\n",
        "            urcrnrlon=ulon, urcrnrlat=ulat) #max longitude (urcrnrlon) and latitude (urcrnrlat)\n",
        "\n",
        "my_map.drawcoastlines()\n",
        "my_map.drawcountries()\n",
        "#my_map.drawmapboundary()\n",
        "my_map.fillcontinents(color = 'white', alpha = 0.3)\n",
        "my_map.shadedrelief()\n",
        "\n",
        "# To create a color map\n",
        "colors = plt.get_cmap('jet')(np.linspace(0.0, 1.0, clusterNum))\n",
        "\n",
        "\n",
        "\n",
        "#Visualization1\n",
        "for clust_number in set(labels):\n",
        "    c=(([0.4,0.4,0.4]) if clust_number == -1 else colors[np.int(clust_number)])\n",
        "    clust_set = pdf[pdf.Clus_Db == clust_number]                    \n",
        "    my_map.scatter(clust_set.xm, clust_set.ym, color =c,  marker='o', s= 20, alpha = 0.85)\n",
        "    if clust_number != -1:\n",
        "        cenx=np.mean(clust_set.xm) \n",
        "        ceny=np.mean(clust_set.ym) \n",
        "        plt.text(cenx,ceny,str(clust_number), fontsize=25, color='red',)\n",
        "        print (\"Cluster \"+str(clust_number)+', Avg Temp: '+ str(np.mean(clust_set.Tm)))"
      ],
      "execution_count": null,
      "outputs": []
    },
    {
      "cell_type": "markdown",
      "metadata": {
        "id": "xpihl8uWuv-n"
      },
      "source": [
        "<h2>Want to learn more?</h2>\n",
        "\n",
        "IBM SPSS Modeler is a comprehensive analytics platform that has many machine learning algorithms. It has been designed to bring predictive intelligence to decisions made by individuals, by groups, by systems – by your enterprise as a whole. A free trial is available through this course, available here: <a href=\"https://www.ibm.com/analytics/spss-statistics-software\">SPSS Modeler</a>\n",
        "\n",
        "Also, you can use Watson Studio to run these notebooks faster with bigger datasets. Watson Studio is IBM's leading cloud solution for data scientists, built by data scientists. With Jupyter notebooks, RStudio, Apache Spark and popular libraries pre-packaged in the cloud, Watson Studio enables data scientists to collaborate on their projects without having to install anything. Join the fast-growing community of Watson Studio users today with a free account at <a href=\"https://www.ibm.com/cloud/watson-studio\">Watson Studio</a>\n"
      ]
    },
    {
      "cell_type": "markdown",
      "metadata": {
        "id": "PxAFJfxwuv-q"
      },
      "source": [
        "### Thank you for completing this lab!\n",
        "\n",
        "## Author\n",
        "\n",
        "Saeed Aghabozorgi\n",
        "\n",
        "### Other Contributors\n",
        "\n",
        "<a href=\"https://www.linkedin.com/in/joseph-s-50398b136/\" target=\"_blank\">Joseph Santarcangelo</a>\n",
        "\n",
        "## Change Log\n",
        "\n",
        "| Date (YYYY-MM-DD) | Version | Changed By | Change Description                 |\n",
        "| ----------------- | ------- | ---------- | ---------------------------------- |\n",
        "| 2020-08-27        | 2.0     | Lavanya    | Moved lab to course repo in GitLab |\n",
        "|                   |         |            |                                    |\n",
        "|                   |         |            |                                    |\n",
        "\n",
        "## <h3 align=\"center\"> © IBM Corporation 2020. All rights reserved. <h3/>\n"
      ]
    }
  ]
}